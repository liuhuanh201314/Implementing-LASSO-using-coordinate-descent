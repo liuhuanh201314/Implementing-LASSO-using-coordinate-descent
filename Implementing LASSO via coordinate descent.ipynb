{
 "cells": [
  {
   "cell_type": "markdown",
   "metadata": {},
   "source": [
    "## Read data"
   ]
  },
  {
   "cell_type": "code",
   "execution_count": 7,
   "metadata": {},
   "outputs": [],
   "source": [
    "import pandas as pd\n",
    "import numpy as np\n",
    "dtype_dict = {'bathrooms':float, 'waterfront':int, 'sqft_above':int, 'sqft_living15':float, 'grade':int, 'yr_renovated':int, 'price':float, 'bedrooms':float, 'zipcode':str, 'long':float, 'sqft_lot15':float, 'sqft_living':float, 'floors':float, 'condition':int, 'lat':float, 'date':str, 'sqft_basement':int, 'yr_built':int, 'id':str, 'sqft_lot':int, 'view':int}\n",
    "sales = pd.read_csv('kc_house_data.csv/kc_house_data.csv', dtype= dtype_dict)\n"
   ]
  },
  {
   "cell_type": "code",
   "execution_count": 8,
   "metadata": {},
   "outputs": [],
   "source": [
    "def get_numpy_data(data, features, output):\n",
    "    data['constant'] = 1\n",
    "    features = ['constant'] + features              ## combine two list\n",
    "    feature_matrix = data[features].to_numpy()\n",
    "    output_array = data[output].to_numpy()\n",
    "    return(feature_matrix, output_array)"
   ]
  },
  {
   "cell_type": "code",
   "execution_count": 9,
   "metadata": {},
   "outputs": [],
   "source": [
    "def predict_output(feature_matrix, weights):\n",
    "    predictions = np.dot(feature_matrix, weights)\n",
    "    return(predictions)"
   ]
  },
  {
   "cell_type": "code",
   "execution_count": 10,
   "metadata": {},
   "outputs": [],
   "source": [
    "def normalize_features(features):\n",
    "    norms = np.linalg.norm(features, axis=0)\n",
    "    feature_norm = features/norms\n",
    "    return(norms, feature_norm)        "
   ]
  },
  {
   "cell_type": "markdown",
   "metadata": {},
   "source": [
    "## Coordinate descent"
   ]
  },
  {
   "cell_type": "code",
   "execution_count": 12,
   "metadata": {},
   "outputs": [],
   "source": [
    "features = ['sqft_living', 'bedrooms']\n",
    "feature_matrix, output_array = get_numpy_data(sales, features, 'price')\n",
    "norms, feature_norm = normalize_features(feature_matrix)\n",
    "initial_weights = [1, 4, 1]\n",
    "prediction = predict_output(feature_norm, initial_weights)\n",
    "ro = np.zeros(3)\n",
    "for i in range(3):\n",
    "    ro[i] = sum(feature_norm[:, i]*(sales['price']-prediction + initial_weights[i]*feature_norm[:,i])) #????"
   ]
  },
  {
   "cell_type": "code",
   "execution_count": 13,
   "metadata": {},
   "outputs": [
    {
     "name": "stdout",
     "output_type": "stream",
     "text": [
      "161933397.3324781 175878941.64650303\n"
     ]
    }
   ],
   "source": [
    "ro\n",
    "print(ro[2]*2,ro[1]*2)"
   ]
  },
  {
   "cell_type": "code",
   "execution_count": 14,
   "metadata": {},
   "outputs": [],
   "source": [
    "def lasso_coordinate_descent_step(i, feature_matrix, output, weights, l1_penalty):\n",
    "    prediction = predict_output(feature_matrix, weights)\n",
    "    ro_i = sum(feature_matrix[:, i]*(output-prediction+weights[i]*feature_matrix[:, i]))\n",
    "    if i==0:\n",
    "        new_weight_i = ro_i\n",
    "    elif ro_i < -l1_penalty/2:\n",
    "        new_weight_i = ro_i + l1_penalty/2\n",
    "    elif ro_i > l1_penalty/2:\n",
    "        new_weight_i = ro_i - l1_penalty/2\n",
    "    else:\n",
    "        new_weight_i = 0\n",
    "    return(new_weight_i)"
   ]
  },
  {
   "cell_type": "code",
   "execution_count": 15,
   "metadata": {},
   "outputs": [
    {
     "data": {
      "text/plain": [
       "0.4255588466910251"
      ]
     },
     "execution_count": 15,
     "metadata": {},
     "output_type": "execute_result"
    }
   ],
   "source": [
    "# test function \n",
    "import math\n",
    "lasso_coordinate_descent_step(1, np.array([[3./math.sqrt(13),1./math.sqrt(10)],\n",
    "                   [2./math.sqrt(13),3./math.sqrt(10)]]), np.array([1., 1.]), np.array([1., 4.]), 0.1)"
   ]
  },
  {
   "cell_type": "code",
   "execution_count": 16,
   "metadata": {},
   "outputs": [],
   "source": [
    "def lasso_cyclical_coordinate_descent(feature_matrix, output, initial_weights, l1_penalty, tolerance):\n",
    "    n = feature_matrix.shape[1]\n",
    "    weights = initial_weights\n",
    "    old_weights = np.zeros(n)\n",
    "    weights_change = np.zeros(n)\n",
    "    max_change = tolerance + 1\n",
    "    while max_change > tolerance:\n",
    "        for i in range(n):\n",
    "            old_weights[i] = weights[i]\n",
    "            weights[i] = lasso_coordinate_descent_step(i, feature_matrix, output, weights, l1_penalty)\n",
    "            weights_change[i] = weights[i] - old_weights[i]\n",
    "        max_change = max(weights_change)\n",
    "    return weights"
   ]
  },
  {
   "cell_type": "code",
   "execution_count": 42,
   "metadata": {},
   "outputs": [
    {
     "name": "stdout",
     "output_type": "stream",
     "text": [
      "1630492484578351.0\n",
      "(array([0, 1]),)\n"
     ]
    }
   ],
   "source": [
    "## test function\n",
    "all_features= ['sqft_living', 'bedrooms']\n",
    "feature_matrix, output_array = get_numpy_data(sales, all_features, 'price')\n",
    "norms, norm_feature = normalize_features(feature_matrix)\n",
    "Initial_weights = np.zeros(3)\n",
    "L1_penalty = 1e7\n",
    "Tolerance = 1.0\n",
    "\n",
    "best_weights = lasso_cyclical_coordinate_descent(norm_feature, sales['price'], \n",
    "                                                 initial_weights=np.zeros(3), \n",
    "                                                 l1_penalty= 1e7, tolerance= 1.0)\n",
    "prediction = predict_output(norm_feature, best_weights)\n",
    "RSS = sum((sales['price'] - prediction)**2)\n",
    "print(RSS)\n",
    "print(np.where(best_weights != 0))"
   ]
  },
  {
   "cell_type": "markdown",
   "metadata": {},
   "source": [
    "## Evaluationg Lasso fit with more features"
   ]
  },
  {
   "cell_type": "code",
   "execution_count": 18,
   "metadata": {
    "scrolled": false
   },
   "outputs": [],
   "source": [
    "train_data = pd.read_csv('kc_house_train_data.csv/kc_house_train_data.csv', dtype= dtype_dict)\n",
    "test_data = pd.read_csv('kc_house_test_data.csv/kc_house_test_data.csv', dtype= dtype_dict)"
   ]
  },
  {
   "cell_type": "code",
   "execution_count": 19,
   "metadata": {},
   "outputs": [],
   "source": [
    "all_features= [\"bedrooms\", \"bathrooms\", \"sqft_living\", \"sqft_lot\", \"floors\", \"waterfront\",\n",
    "               \"view\", \"condition\", \"grade\", \n",
    "               \"sqft_above\", \"sqft_basement\", \"yr_built\", \"yr_renovated\"]\n",
    "feature_matrix, output_array = get_numpy_data(train_data, all_features, 'price')\n",
    "norms2, normalized_feature = normalize_features(feature_matrix)"
   ]
  },
  {
   "cell_type": "code",
   "execution_count": 20,
   "metadata": {},
   "outputs": [],
   "source": [
    "n2 = normalized_feature.shape[1] \n",
    "initial_weights = np.zeros(n2)\n",
    "weights1e7 = lasso_cyclical_coordinate_descent(normalized_feature, train_data['price'], \n",
    "                                               initial_weights = np.zeros(n2), \n",
    "                                               l1_penalty=1e7, tolerance=1)"
   ]
  },
  {
   "cell_type": "code",
   "execution_count": 40,
   "metadata": {},
   "outputs": [
    {
     "name": "stdout",
     "output_type": "stream",
     "text": [
      "(array([0, 3, 6, 7]),)\n",
      "sqft_living waterfront view\n"
     ]
    },
    {
     "data": {
      "text/plain": [
       "'bedrooms'"
      ]
     },
     "execution_count": 40,
     "metadata": {},
     "output_type": "execute_result"
    }
   ],
   "source": [
    "print(np.where(weights1e7 != 0 ))\n",
    "print(all_features[2],all_features[5],all_features[6])\n",
    "all_features[0]"
   ]
  },
  {
   "cell_type": "code",
   "execution_count": 37,
   "metadata": {},
   "outputs": [],
   "source": [
    "weights1e8 = lasso_cyclical_coordinate_descent(normalized_feature, train_data['price'], \n",
    "                                               initial_weights = np.zeros(n2), \n",
    "                                               l1_penalty=1e8, tolerance=1)"
   ]
  },
  {
   "cell_type": "code",
   "execution_count": 38,
   "metadata": {},
   "outputs": [
    {
     "name": "stdout",
     "output_type": "stream",
     "text": [
      "(array([0]),)\n",
      "floors condition grade\n"
     ]
    }
   ],
   "source": [
    "print(np.where(weights1e8 != 0 ))\n",
    "print(all_features[4],all_features[7],all_features[8])"
   ]
  },
  {
   "cell_type": "code",
   "execution_count": 24,
   "metadata": {},
   "outputs": [],
   "source": [
    "weights1e4 = lasso_cyclical_coordinate_descent(normalized_feature, train_data['price'], \n",
    "                                               initial_weights = np.zeros(n2), \n",
    "                                               l1_penalty=1e4, tolerance=5e5)"
   ]
  },
  {
   "cell_type": "code",
   "execution_count": 25,
   "metadata": {},
   "outputs": [
    {
     "name": "stdout",
     "output_type": "stream",
     "text": [
      "(array([ 0,  1,  2,  3,  4,  5,  6,  7,  8,  9, 10, 11, 12, 13]),)\n"
     ]
    }
   ],
   "source": [
    "print(np.where(weights1e4 != 0 ))"
   ]
  },
  {
   "cell_type": "code",
   "execution_count": 34,
   "metadata": {},
   "outputs": [
    {
     "name": "stdout",
     "output_type": "stream",
     "text": [
      "161.31745496774982\n"
     ]
    }
   ],
   "source": [
    "weights1e7_normalized = weights1e7/norms2\n",
    "weights1e8_normalized = weights1e8/norms2\n",
    "weights1e4_normalized = weights1e4/norms2\n",
    "print(weights1e7_normalized[3])"
   ]
  },
  {
   "cell_type": "code",
   "execution_count": 35,
   "metadata": {},
   "outputs": [],
   "source": [
    "test_matrix, output_array = get_numpy_data(test_data, all_features, 'price')\n",
    "prediction1e7 = predict_output(test_matrix, weights1e7_normalized)\n",
    "RSS1e7 = sum((prediction1e7-output_array)**2)\n",
    "\n",
    "prediction1e8 = predict_output(test_matrix, weights1e8_normalized)\n",
    "RSS1e8 = sum((prediction1e8-output_array)**2)\n",
    "\n",
    "prediction1e4 = predict_output(test_matrix, weights1e4_normalized)\n",
    "RSS1e4 = sum((prediction1e4-output_array)**2)"
   ]
  },
  {
   "cell_type": "code",
   "execution_count": 36,
   "metadata": {},
   "outputs": [
    {
     "name": "stdout",
     "output_type": "stream",
     "text": [
      "275962077477488.8 537166151497322.4 228459958971392.34\n"
     ]
    }
   ],
   "source": [
    "print(RSS1e7,RSS1e8,RSS1e4)"
   ]
  }
 ],
 "metadata": {
  "kernelspec": {
   "display_name": "Python 3",
   "language": "python",
   "name": "python3"
  },
  "language_info": {
   "codemirror_mode": {
    "name": "ipython",
    "version": 3
   },
   "file_extension": ".py",
   "mimetype": "text/x-python",
   "name": "python",
   "nbconvert_exporter": "python",
   "pygments_lexer": "ipython3",
   "version": "3.8.5"
  }
 },
 "nbformat": 4,
 "nbformat_minor": 4
}
